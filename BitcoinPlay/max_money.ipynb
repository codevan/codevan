{
 "cells": [
  {
   "cell_type": "code",
   "execution_count": 1,
   "metadata": {
    "collapsed": true
   },
   "outputs": [],
   "source": [
    "# Original block reward for miners was 50 BTC\n",
    "start_block_reward = 50"
   ]
  },
  {
   "cell_type": "code",
   "execution_count": 2,
   "metadata": {
    "collapsed": true
   },
   "outputs": [],
   "source": [
    "# 210000 is around every 4 years with a 10 minute block interval\n",
    "reward_interval = 210000"
   ]
  },
  {
   "cell_type": "code",
   "execution_count": 3,
   "metadata": {
    "collapsed": true
   },
   "outputs": [],
   "source": [
    "def multiplier(a):\n",
    "    a = a.lower()\n",
    "    multiplier = 1\n",
    "    \n",
    "    #See: https://www.bitcoindenominations.org/\n",
    "    if a == \"bitcoin\" or a ==\"btc\":\n",
    "        return 1 \n",
    "    \n",
    "    #0.01000000 Bitcoin\t10,000\tSubunit\tTen Kilobits\t10 kɃ\tBitcent, Centibitcoin\n",
    "    if a== \"bitcent\" or a==\"cbtc\" or a==\"centibitcoin\":\n",
    "        return 100\n",
    " \n",
    "    #0.00100000 Bitcoin\t1,000\tSubunit\tOne Kilobit\t1 kɃ\tmBTC, millibitcoin\n",
    "    if a == \"millibit\" or a==\"mbit\"  or a==\"mbtc\":\n",
    "        return 10**3\n",
    "    \n",
    "    #0.00000100 Bitcoin\t1\tBase Unit\tOne bit\t1 Ƀ\tuBTC, microbitcoin\n",
    "    if a == \"bit\" or a==\"ubtc\" or a==\"microbitcoin\":\n",
    "        return 10**6 \n",
    "    \n",
    "    if a == \"decibit\":\n",
    "        return 10**7\n",
    "   \n",
    "    if a == \"satoshis\" or a == \"sat\" or a==\"centibit\" or a == \"cb\":\n",
    "        return 10**8     \n",
    "    return 0/0"
   ]
  },
  {
   "cell_type": "code",
   "execution_count": 4,
   "metadata": {
    "collapsed": true
   },
   "outputs": [],
   "source": [
    "def max_money(a):\n",
    "        \n",
    "    # 50 BTC = 50 0000 0000 Satoshis\n",
    "    current_reward = 50 * multiplier(a)\n",
    "    total = 0\n",
    "\n",
    "    while current_reward > 0:\n",
    "        total += reward_interval * current_reward\n",
    "        current_reward /= 2\n",
    "    return total"
   ]
  },
  {
   "cell_type": "code",
   "execution_count": 12,
   "metadata": {},
   "outputs": [
    {
     "name": "stdout",
     "output_type": "stream",
     "text": [
      "for BTC x 1\n",
      "for cBTC x 100\n",
      "for mBit x 1000\n",
      "for DeciBit x 10000000\n",
      "for Satoshis x 100000000\n"
     ]
    }
   ],
   "source": [
    "print (\"for BTC x\",       multiplier(\"BTC\"))\n",
    "print (\"for cBTC x\",      multiplier(\"cBTC\"))\n",
    "print (\"for mBit x\",      multiplier(\"mBit\"))\n",
    "print (\"for DeciBit x\",   multiplier(\"DeciBit\"))\n",
    "print (\"for Satoshis x\", multiplier(\"Satoshis\"))"
   ]
  },
  {
   "cell_type": "code",
   "execution_count": 14,
   "metadata": {},
   "outputs": [
    {
     "name": "stdout",
     "output_type": "stream",
     "text": [
      "Total BTC to ever be created: 2100000000000000.0 Satoshis\n",
      "Total BTC to ever be created: 210000000000000.0 Decibit\n",
      "Total BTC to ever be created: 21000000000.0 Millibit\n",
      "Total BTC to ever be created: 21000000.0 Bitcoin\n"
     ]
    }
   ],
   "source": [
    "print(\"Total BTC to ever be created:\", max_money(\"Satoshis\"), \"Satoshis\" )\n",
    "print(\"Total BTC to ever be created:\", max_money(\"Decibit\"), \"Decibit\")\n",
    "print(\"Total BTC to ever be created:\", max_money(\"Millibit\"), \"Millibit\")\n",
    "print(\"Total BTC to ever be created:\", max_money(\"Bitcoin\"), \"Bitcoin\")"
   ]
  },
  {
   "cell_type": "code",
   "execution_count": null,
   "metadata": {
    "collapsed": true
   },
   "outputs": [],
   "source": []
  },
  {
   "cell_type": "code",
   "execution_count": null,
   "metadata": {
    "collapsed": true
   },
   "outputs": [],
   "source": []
  }
 ],
 "metadata": {
  "kernelspec": {
   "display_name": "Python 3",
   "language": "python",
   "name": "python3"
  },
  "language_info": {
   "codemirror_mode": {
    "name": "ipython",
    "version": 3
   },
   "file_extension": ".py",
   "mimetype": "text/x-python",
   "name": "python",
   "nbconvert_exporter": "python",
   "pygments_lexer": "ipython3",
   "version": "3.6.1"
  }
 },
 "nbformat": 4,
 "nbformat_minor": 2
}
